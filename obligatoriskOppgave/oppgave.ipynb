{
 "cells": [
  {
   "cell_type": "code",
   "execution_count": null,
   "id": "5f03bda7",
   "metadata": {},
   "outputs": [
    {
     "name": "stdout",
     "output_type": "stream",
     "text": [
      "           date  open_price  high_price   low_price  close_price       volume  \\\n",
      "4772 2002-02-13    9.625000   10.060000    9.525000    10.050000   19054000.0   \n",
      "4771 2002-02-14   10.175000   10.195000    9.925000    10.000000    2755400.0   \n",
      "4770 2002-02-15   10.000000   10.025000    9.850000     9.950000    2097400.0   \n",
      "4769 2002-02-19    9.900000    9.900000    9.375000     9.550000    1852600.0   \n",
      "4768 2002-02-20    9.600000    9.875000    9.525000     9.875000    1723200.0   \n",
      "...         ...         ...         ...         ...          ...          ...   \n",
      "4    2021-01-22   42.590000   76.760002   42.320000    65.010002  196784300.0   \n",
      "3    2021-01-25   96.730003  159.179993   61.130001    76.790001  177874000.0   \n",
      "2    2021-01-26   88.559998  150.000000   80.199997   147.979996  178588000.0   \n",
      "1    2021-01-27  354.829987  380.000000  249.000000   347.510010   93396700.0   \n",
      "0    2021-01-28  265.000000  483.000000  112.250000   193.600006   58815800.0   \n",
      "\n",
      "      adjclose_price  \n",
      "4772        6.766666  \n",
      "4771        6.733003  \n",
      "4770        6.699336  \n",
      "4769        6.430017  \n",
      "4768        6.648838  \n",
      "...              ...  \n",
      "4          65.010002  \n",
      "3          76.790001  \n",
      "2         147.979996  \n",
      "1         347.510010  \n",
      "0         193.600006  \n",
      "\n",
      "[4773 rows x 7 columns]\n"
     ]
    }
   ],
   "source": [
    "import pandas as pd\n",
    "import seaborn as sns\n",
    "import matplotlib.pyplot as plt\n",
    "\n",
    "# 80/20 split \n",
    "# 80% of the rows for training and 20% of the rows for testing, chronological order\n",
    "\n",
    "df = pd.read_csv(\"GME_stock.csv\")\n",
    "df['date'] = pd.to_datetime(df['date'])\n",
    "df = df.sort_values('date', ascending = True)\n",
    "df = df.reset_index(drop=True)\n",
    "\n",
    "print(df)\n",
    "\n",
    "\n",
    "\n",
    "# I want to visualize closing prices over time\n",
    "#trainingDate = pd.to_datetime(training_df['date'])\n",
    "\n",
    "#plt.figure(figsize=(15,5))\n",
    "#plt.plot(trainingDate, training_df['close_price'])\n",
    "#plt.xlabel(\"Date\")\n",
    "#plt.ylabel(\"Close Price\")\n",
    "#plt.title(\"closing prices over time\")\n"
   ]
  },
  {
   "cell_type": "markdown",
   "id": "7e217339",
   "metadata": {},
   "source": [
    "We chose this a regression algorithm because when it comes to predicting the stock market is continious numbers and regression is about predicting numeric outcomes. "
   ]
  }
 ],
 "metadata": {
  "kernelspec": {
   "display_name": "oblig2",
   "language": "python",
   "name": "python3"
  },
  "language_info": {
   "codemirror_mode": {
    "name": "ipython",
    "version": 3
   },
   "file_extension": ".py",
   "mimetype": "text/x-python",
   "name": "python",
   "nbconvert_exporter": "python",
   "pygments_lexer": "ipython3",
   "version": "3.12.11"
  }
 },
 "nbformat": 4,
 "nbformat_minor": 5
}
